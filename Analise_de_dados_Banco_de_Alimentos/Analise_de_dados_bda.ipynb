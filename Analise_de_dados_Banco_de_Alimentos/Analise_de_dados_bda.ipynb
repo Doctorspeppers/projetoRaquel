{
  "cells": [
    {
      "cell_type": "markdown",
      "metadata": {
        "colab_type": "text",
        "id": "view-in-github"
      },
      "source": [
        "<a href=\"https://colab.research.google.com/github/raquelspedroso/Analise_de_dados_Banco_de_Alimentos/blob/main/Analise_de_dados_bda.ipynb\" target=\"_parent\"><img src=\"https://colab.research.google.com/assets/colab-badge.svg\" alt=\"Open In Colab\"/></a>"
      ]
    },
    {
      "cell_type": "markdown",
      "metadata": {
        "id": "HnNaKX4AjXXd"
      },
      "source": []
    },
    {
      "cell_type": "markdown",
      "metadata": {
        "id": "dBcrxaaFgCab"
      },
      "source": [
        "# **Análise de dados da Ong Banco de Alimentos**\n",
        "\n",
        "Dados forncecidos nos relatórios dos anos de 2019 e 2020."
      ]
    },
    {
      "cell_type": "code",
      "execution_count": null,
      "metadata": {
        "id": "HE5mEIMOfRuM"
      },
      "outputs": [],
      "source": [
        "import pandas as pd\n",
        "df = pd.read_excel('./banco de alimentos excel.xlsx')\n"
      ]
    },
    {
      "cell_type": "markdown",
      "metadata": {
        "id": "yWUIvs6WeRwY"
      },
      "source": [
        "\n",
        "\n",
        "*   Incluindo coluna com os totais por ano. "
      ]
    },
    {
      "cell_type": "code",
      "execution_count": null,
      "metadata": {
        "id": "fgfEczCIepwk"
      },
      "outputs": [],
      "source": [
        "\n",
        "df['Total_2019'] = df['COLHEITA_RECORRENTE(KG)2019'] + df['COLHEITA_PONTUAL(KG)2019']\n",
        "df['Total_2020'] = df['COLHEITA_RECORRENTE(KG)2020'] + df['COLHEITA_PONTUAL(KG)2020']"
      ]
    },
    {
      "cell_type": "markdown",
      "metadata": {
        "id": "e3Iejf5tiEeX"
      },
      "source": [
        "\n",
        "\n",
        "*   Incluindo coluna com os comparativos de Colheita Recorrente e Colheita Pontual\n"
      ]
    },
    {
      "cell_type": "code",
      "execution_count": null,
      "metadata": {
        "id": "wTBqybIR3tSG"
      },
      "outputs": [],
      "source": [
        "df['Comparativo_recorrente'] =df['COLHEITA_RECORRENTE(KG)2020'] - df['COLHEITA_RECORRENTE(KG)2019']\n",
        "df['Comparativo_pontual'] =df['COLHEITA_PONTUAL(KG)2020'] - df['COLHEITA_PONTUAL(KG)2019']\n",
        "df_graph = df.drop(12)\n"
      ]
    },
    {
      "cell_type": "code",
      "execution_count": null,
      "metadata": {
        "colab": {
          "base_uri": "https://localhost:8080/",
          "height": 470
        },
        "id": "DR-ZLGlGzCcr",
        "outputId": "d0671563-514e-413d-c740-3c01d1a6b53a"
      },
      "outputs": [],
      "source": [
        "df_graph"
      ]
    },
    {
      "cell_type": "markdown",
      "metadata": {
        "id": "7kZ-LuB_vCdw"
      },
      "source": [
        "\n",
        "\n",
        "*   Média por ano de cada coluna (media_pontual_2019, media_recorrente_2019,media_pontual_2020, media_recorrente_2020, media_total_2019, media_total_2020).\n",
        "\n"
      ]
    },
    {
      "cell_type": "code",
      "execution_count": null,
      "metadata": {
        "id": "zFrauCD1OTTG"
      },
      "outputs": [],
      "source": [
        "\n",
        "media_pontual_2019 = round(df.at[12,\"COLHEITA_PONTUAL(KG)2019\"] / (len(df)-1))\n",
        "media_recorrente_2019 = round(df.at[12,\"COLHEITA_RECORRENTE(KG)2019\"] / (len(df)-1))\n",
        "media_pontual_2020 = round(df.at[12,\"COLHEITA_PONTUAL(KG)2020\"] / (len(df)-1))\n",
        "media_recorrente_2020 = round(df.at[12,\"COLHEITA_RECORRENTE(KG)2020\"] / (len(df)-1))\n",
        "media_total_2019  = round((df.at[12,\"COLHEITA_PONTUAL(KG)2019\"] + df.at[12,\"COLHEITA_RECORRENTE(KG)2019\"]) / (len(df)-1))\n",
        "media_total_2020  = round((df.at[12,\"COLHEITA_PONTUAL(KG)2020\"] + df.at[12,\"COLHEITA_RECORRENTE(KG)2020\"]) / (len(df)-1))\n",
        "\n",
        "\n",
        "df = df.append({\"Mês\":\"MEDIA\",\n",
        " \t \"COLHEITA_RECORRENTE(KG)2019\":media_recorrente_2019,\n",
        "   \"COLHEITA_RECORRENTE(KG)2020\":media_recorrente_2020,\n",
        "   \"COLHEITA_PONTUAL(KG)2019\" :media_pontual_2019,\n",
        "   \"COLHEITA_PONTUAL(KG)2020\":media_pontual_2020,\n",
        "   \"Total_2019\":media_total_2019,\n",
        "   \"Total_2020\":media_total_2020,\n",
        "   \"Comparativo_recorrente\":media_pontual_2020 - media_pontual_2019,\n",
        "   \"Comparativo_pontual\":media_recorrente_2020 - media_recorrente_2019\n",
        " },ignore_index=True)\n",
        "\n",
        "df = df.set_index(\"Mês\")\n",
        "df"
      ]
    },
    {
      "cell_type": "markdown",
      "metadata": {
        "id": "fBQvaLQHwhWo"
      },
      "source": [
        "# **Comparativo com gráficos.**\n"
      ]
    },
    {
      "cell_type": "markdown",
      "metadata": {
        "id": "684l6jTowx1d"
      },
      "source": [
        "\n",
        "\n",
        "*   Através do gráfico abaixo, podemos verificar que houve um número maior de doações no mês Abril. Um mês após o inicio da pandemia no Brasil. No mês de maio tivemos uma queda e no mês de Junho foi o maior número de doações no ano de 2020.\n",
        "\n"
      ]
    },
    {
      "cell_type": "code",
      "execution_count": null,
      "metadata": {
        "colab": {
          "base_uri": "https://localhost:8080/",
          "height": 542
        },
        "id": "2WDrpo1hbPKh",
        "outputId": "21e9c065-bd02-492b-fb07-add292c8ee12"
      },
      "outputs": [],
      "source": [
        "import plotly.express as px\n",
        "fig = px.bar(df_graph, x='Mês', y='COLHEITA_PONTUAL(KG)2020')\n",
        "fig.show()"
      ]
    },
    {
      "cell_type": "markdown",
      "metadata": {
        "id": "377qcq23xynm"
      },
      "source": [
        "\n",
        "\n",
        "*   No gráfico abaixo, temos o comparativo de colheita pontual dos anos de 2019 e 2020. Através deste podemos ver que houve um crescimento significativo no número de doações no ano de 2020.\n",
        "\n"
      ]
    },
    {
      "cell_type": "code",
      "execution_count": null,
      "metadata": {
        "colab": {
          "base_uri": "https://localhost:8080/",
          "height": 542
        },
        "id": "GohgE8MncO80",
        "outputId": "c2c5dff2-5040-418a-bc6b-3b36aeae1c6b"
      },
      "outputs": [],
      "source": [
        "import plotly.graph_objects as go\n",
        "\n",
        "fig = go.Figure(data=[\n",
        "    go.Bar(name='2019', x=df_graph['Mês'], y=df_graph['COLHEITA_PONTUAL(KG)2019']),\n",
        "    go.Bar(name='2020', x=df_graph['Mês'], y=df_graph['COLHEITA_PONTUAL(KG)2020'])\n",
        "])\n",
        "# Change the bar mode\n",
        "fig.update_layout(barmode='group')\n",
        "fig.show()"
      ]
    },
    {
      "cell_type": "markdown",
      "metadata": {
        "id": "O1mQ_AHpyleW"
      },
      "source": [
        "\n",
        "*   No gráfico abaixo, temos o comparativo de Colheita Recorrente dos anos de 2019 e 2020. Através deste podemos ver que houve uma entrega no ano de 2019 bem maior que no ano seguinte.\n",
        "\n"
      ]
    },
    {
      "cell_type": "code",
      "execution_count": null,
      "metadata": {
        "colab": {
          "base_uri": "https://localhost:8080/",
          "height": 542
        },
        "id": "iVRAG6cPcepv",
        "outputId": "9a97be30-0e47-4e75-d7ab-4f15f83356c8"
      },
      "outputs": [],
      "source": [
        "import plotly.graph_objects as go\n",
        "\n",
        "fig = go.Figure(data=[\n",
        "    go.Bar(name='2019', x=df_graph['Mês'], y=df_graph['COLHEITA_RECORRENTE(KG)2019']),\n",
        "    go.Bar(name='2020', x=df_graph['Mês'], y=df_graph['COLHEITA_RECORRENTE(KG)2020'])\n",
        "])\n",
        "# Change the bar mode\n",
        "fig.update_layout(barmode='group')\n",
        "fig.show()"
      ]
    },
    {
      "cell_type": "markdown",
      "metadata": {
        "id": "ulhobzonzbhm"
      },
      "source": [
        "\n",
        "\n",
        "*   No gráfico abaixo, temos o comparativo no total de doações(Colheita Pontual e Colheita Recorrente) dos anos de 2019 e 2020. Através deste podemos ver que houve um crescimento significativo no número de doações no ano de 2020.\n",
        "\n"
      ]
    },
    {
      "cell_type": "code",
      "execution_count": null,
      "metadata": {
        "colab": {
          "base_uri": "https://localhost:8080/",
          "height": 542
        },
        "id": "TSHMx6AzcjpW",
        "outputId": "98fa5f92-26da-434d-f898-7395962e1aa4"
      },
      "outputs": [],
      "source": [
        "import plotly.graph_objects as go\n",
        "\n",
        "fig = go.Figure(data=[\n",
        "    go.Bar(name='2019', x=df_graph['Mês'], y=df_graph['Total_2019']),\n",
        "    go.Bar(name='2020', x=df_graph['Mês'], y=df_graph['Total_2020'])\n",
        "])\n",
        "# Change the bar mode\n",
        "fig.update_layout(barmode='group')\n",
        "fig.show()"
      ]
    },
    {
      "cell_type": "markdown",
      "metadata": {
        "id": "N67-7tnpzDlI"
      },
      "source": [
        "\n",
        "\n",
        "* comparativo de doações Colheita Recorrente, e Colheita Pontual entre os anos de 2019 e 1020. Podemos ver que no mês de março/2020, inicio da pandemia no Brasil, já temos uma resposta bem significativa de doações. O maior registro no número de doações Pontuais(que são as individuais) teve no mês de junho, e maior queda no mês de dezembro.   \n",
        "\n"
      ]
    },
    {
      "cell_type": "code",
      "execution_count": null,
      "metadata": {
        "colab": {
          "base_uri": "https://localhost:8080/",
          "height": 542
        },
        "id": "rRIry4UZc55d",
        "outputId": "a4ba79ef-5b47-449b-b738-a6fc004fda5e"
      },
      "outputs": [],
      "source": [
        "import plotly.graph_objects as go\n",
        "\n",
        "\n",
        "fig = go.Figure()\n",
        "fig.add_trace(go.Bar(x=df_graph['Mês'], y=df_graph['Comparativo_recorrente'],\n",
        "                base=0,\n",
        "                marker_color='crimson',\n",
        "                name='Comparativo_recorrente'))\n",
        "fig.add_trace(go.Bar(x=df_graph['Mês'], y=df_graph['Comparativo_pontual'],\n",
        "                base=0,\n",
        "                marker_color='lightslategrey',\n",
        "                name='Comparativo_pontual'\n",
        "                ))\n",
        "\n",
        "fig.show()"
      ]
    }
  ],
  "metadata": {
    "colab": {
      "collapsed_sections": [],
      "include_colab_link": true,
      "name": "Analise de dados bda.ipynb",
      "provenance": []
    },
    "kernelspec": {
      "display_name": "Python 3",
      "name": "python3"
    },
    "language_info": {
      "codemirror_mode": {
        "name": "ipython",
        "version": 3
      },
      "file_extension": ".py",
      "mimetype": "text/x-python",
      "name": "python",
      "nbconvert_exporter": "python",
      "pygments_lexer": "ipython3",
      "version": "3.8.10"
    }
  },
  "nbformat": 4,
  "nbformat_minor": 0
}
